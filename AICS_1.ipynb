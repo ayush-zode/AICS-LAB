{
  "nbformat": 4,
  "nbformat_minor": 0,
  "metadata": {
    "colab": {
      "provenance": [],
      "collapsed_sections": [],
      "authorship_tag": "ABX9TyNkNtnXBNUN3weLM8CiOIDG",
      "include_colab_link": true
    },
    "kernelspec": {
      "name": "python3",
      "display_name": "Python 3"
    },
    "language_info": {
      "name": "python"
    }
  },
  "cells": [
    {
      "cell_type": "markdown",
      "metadata": {
        "id": "view-in-github",
        "colab_type": "text"
      },
      "source": [
        "<a href=\"https://colab.research.google.com/github/ayush-zode/AICS-LAB/blob/main/AICS_1.ipynb\" target=\"_parent\"><img src=\"https://colab.research.google.com/assets/colab-badge.svg\" alt=\"Open In Colab\"/></a>"
      ]
    },
    {
      "cell_type": "code",
      "execution_count": null,
      "metadata": {
        "id": "3ziaytVjxw0S",
        "colab": {
          "base_uri": "https://localhost:8080/"
        },
        "outputId": "0d01e761-1219-49d2-9b35-2e784886ca9e"
      },
      "outputs": [
        {
          "output_type": "stream",
          "name": "stdout",
          "text": [
            "['Challenger', 'Ferrari', 'Mustang', 'Phoenix', 'Veryon']\n"
          ]
        }
      ],
      "source": [
        "cars =['Mustang','Challenger','Ferrari','Phoenix','Veryon']\n",
        "cars.sort()\n",
        "print(cars)\n"
      ]
    },
    {
      "cell_type": "code",
      "source": [],
      "metadata": {
        "id": "H99cAnQI0Yla"
      },
      "execution_count": null,
      "outputs": []
    }
  ]
}
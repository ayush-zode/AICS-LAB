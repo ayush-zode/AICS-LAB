{
  "nbformat": 4,
  "nbformat_minor": 0,
  "metadata": {
    "colab": {
      "provenance": [],
      "authorship_tag": "ABX9TyNld13Uomr9lo0/uU3X1iiu",
      "include_colab_link": true
    },
    "kernelspec": {
      "name": "python3",
      "display_name": "Python 3"
    },
    "language_info": {
      "name": "python"
    }
  },
  "cells": [
    {
      "cell_type": "markdown",
      "metadata": {
        "id": "view-in-github",
        "colab_type": "text"
      },
      "source": [
        "<a href=\"https://colab.research.google.com/github/ayush-zode/AICS-LAB/blob/main/AICS_1.ipynb\" target=\"_parent\"><img src=\"https://colab.research.google.com/assets/colab-badge.svg\" alt=\"Open In Colab\"/></a>"
      ]
    },
    {
      "cell_type": "code",
      "execution_count": null,
      "metadata": {
        "id": "3ziaytVjxw0S",
        "colab": {
          "base_uri": "https://localhost:8080/"
        },
        "outputId": "9e261e6c-17ef-41af-af10-ed59a419219f"
      },
      "outputs": [
        {
          "output_type": "stream",
          "name": "stdout",
          "text": [
            "[1, 2, 3, 4, 5, [5, 6, 7, 8, 9, 10]]\n",
            "\n",
            " <class 'list'>\n",
            "6\n",
            "\n",
            " tup[0:3] =  (2, [5, 7, 8, 9, 6], 6)\n",
            "\n",
            " 2\n",
            "\n",
            " 3\n",
            "\n",
            " {'name': 'Ram', 'age': 26}\n",
            "\n",
            " {'name': 'Ram', 'age': 27}\n",
            "\n",
            " {'name': 'Ram', 'age': 27, 'address': 'Downtown'}\n"
          ]
        }
      ],
      "source": [
        "l1=[1,2,3,4,5]\n",
        "l2=[5,6,7,8,9,10]\n",
        "l1.append(l2)\n",
        "print(l1)\n",
        "print(\"\\n\",type(l1))\n",
        "\n",
        "\n",
        "tup=(2,[5,7,8,9,6],6,'a','b')\n",
        "print(tup[2])\n",
        "print(\"\\n\",\"tup[0:3] = \", tup[0:3])\n",
        "my_tuple = ('a', 'p', 'p', 'l', 'e',)\n",
        "print(\"\\n\",my_tuple.count('p'))  \n",
        "print(\"\\n\",my_tuple.index('l'))  \n",
        "\n",
        "my_dict = {'name': 'Ram', 'age': 26}\n",
        "print(\"\\n\",my_dict)\n",
        "my_dict['age'] = 27\n",
        "print(\"\\n\",my_dict)\n",
        "my_dict['address'] = 'Downtown'\n",
        "print(\"\\n\",my_dict)\n",
        "\n",
        "     "
      ]
    },
    {
      "cell_type": "code",
      "source": [],
      "metadata": {
        "id": "H99cAnQI0Yla"
      },
      "execution_count": null,
      "outputs": []
    }
  ]
}